{
 "cells": [
  {
   "cell_type": "markdown",
   "metadata": {},
   "source": [
    "# Playing around with SymPy code generation\n",
    "\n",
    "As an initial test, I want to try printing a custom multiplication function for the algebra of matrices of the form:\n",
    "\\begin{equation}\\left(\\begin{array}{ccc}A_0 & A_1 & A_2 \\\\ \n",
    "0 & A_0 & A_1 \\\\\n",
    "0 & 0 & A_0\\end{array}\\right).\n",
    "\\end{equation}\n",
    "\n",
    "Each matrix in this algebra is given by a triple $(A_0, A_1, A_2)$, and two elements multiply according to the rule:\n",
    "\\begin{equation}\n",
    "    (A_0, A_1, A_2) \\times (B_0, B_1, B_2) = (A_0B_0, A_0 B_1 + A_1 B_0, A_0B_2 + A_1B_1 + A_2B_0)\n",
    "\\end{equation}\n",
    "\n",
    "Our simple goal for now is to write down this matrix expression, and print a Python function that actually performs this multiplication. Currently, my plan is to write each element of the algebra as a list of numpy arrays. I choose to do this (as opposed to storing all of it in a single 3-index numpy array) as more generally the matrices in the list need not all be the same dimension. I.e. we need to deal with ragged arrays, and I don't know the best way of doing this."
   ]
  },
  {
   "cell_type": "code",
   "execution_count": 9,
   "metadata": {},
   "outputs": [],
   "source": [
    "from sympy import MatrixSymbol\n",
    "A0 = MatrixSymbol('A[0]',4,4)\n",
    "A1 = MatrixSymbol('A[1]',4,4)\n",
    "A2 = MatrixSymbol('A[2]',4,4)\n",
    "B0 = MatrixSymbol('B[0]',4,4)\n",
    "B1 = MatrixSymbol('B[1]',4,4)\n",
    "B2 = MatrixSymbol('B[2]',4,4)\n",
    "\n",
    "rule1 = A0*B0\n",
    "rule2 = A0*B1+A1*B0\n",
    "rule3 = A0*B2 + A1*B1 + A2*B0\n",
    "combined = [rule1, rule2, rule3]"
   ]
  },
  {
   "cell_type": "code",
   "execution_count": 10,
   "metadata": {},
   "outputs": [],
   "source": [
    "from sympy.printing.pycode import NumPyPrinter\n",
    "printer = NumPyPrinter()"
   ]
  },
  {
   "cell_type": "code",
   "execution_count": 11,
   "metadata": {},
   "outputs": [
    {
     "data": {
      "text/plain": [
       "'[(A[0]).dot(B[0]), (A[0]).dot(B[1]) + (A[1]).dot(B[0]), (A[0]).dot(B[2]) + (A[1]).dot(B[1]) + (A[2]).dot(B[0])]'"
      ]
     },
     "execution_count": 11,
     "metadata": {},
     "output_type": "execute_result"
    }
   ],
   "source": [
    "printer.doprint(combined)"
   ]
  },
  {
   "cell_type": "code",
   "execution_count": null,
   "metadata": {},
   "outputs": [],
   "source": [
    "from numpy import array\n"
   ]
  }
 ],
 "metadata": {
  "kernelspec": {
   "display_name": "Python 3",
   "language": "python",
   "name": "python3"
  },
  "language_info": {
   "codemirror_mode": {
    "name": "ipython",
    "version": 3
   },
   "file_extension": ".py",
   "mimetype": "text/x-python",
   "name": "python",
   "nbconvert_exporter": "python",
   "pygments_lexer": "ipython3",
   "version": "3.6.8"
  }
 },
 "nbformat": 4,
 "nbformat_minor": 2
}
