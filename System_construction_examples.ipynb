{
 "cells": [
  {
   "cell_type": "code",
   "execution_count": 1,
   "metadata": {},
   "outputs": [],
   "source": [
    "from Sym_UTB_Matrix import Sym_UTB_Matrix\n",
    "from UTB_Subspace import UTB_Subspace\n",
    "from UTB_Setup import basic_dyson\n",
    "from sympy.matrices import Matrix, BlockMatrix\n",
    "from sympy import Symbol,zeros"
   ]
  },
  {
   "cell_type": "code",
   "execution_count": 2,
   "metadata": {},
   "outputs": [],
   "source": [
    "X = Symbol('X', commutative = False)\n",
    "Y = Symbol('Y', commutative = False)\n",
    "Z = Symbol('Z', commutative = False)\n",
    "a = [Symbol('a[0]'), Symbol('a[1]')]\n",
    "G = Z + a[0]*X + a[1]*Y"
   ]
  },
  {
   "cell_type": "code",
   "execution_count": 3,
   "metadata": {},
   "outputs": [
    {
     "data": {
      "text/plain": [
       "[Matrix([\n",
       " [a[0]*X + a[1]*Y + Z,                   X],\n",
       " [                  0, a[0]*X + a[1]*Y + Z]]), Matrix([\n",
       " [a[0]*X + a[1]*Y + Z,                   Y],\n",
       " [                  0, a[0]*X + a[1]*Y + Z]]), Matrix([\n",
       " [a[0]*X + a[1]*Y + Z,                   Z],\n",
       " [                  0, a[0]*X + a[1]*Y + Z]])]"
      ]
     },
     "execution_count": 3,
     "metadata": {},
     "output_type": "execute_result"
    }
   ],
   "source": [
    "first_order_univ = basic_dyson(G, [[X], [Y], [Z]])\n",
    "first_order_univ.mat_list"
   ]
  },
  {
   "cell_type": "code",
   "execution_count": 4,
   "metadata": {},
   "outputs": [
    {
     "name": "stdout",
     "output_type": "stream",
     "text": [
      "[Matrix([\n",
      "[Z, X],\n",
      "[0, Z]]), Matrix([\n",
      "[Z, Y],\n",
      "[0, Z]]), Matrix([\n",
      "[Z, Z],\n",
      "[0, Z]])]\n",
      "[Matrix([\n",
      "[X, 0],\n",
      "[0, X]]), Matrix([\n",
      "[X, 0],\n",
      "[0, X]]), Matrix([\n",
      "[X, 0],\n",
      "[0, X]])]\n",
      "[Matrix([\n",
      "[Y, 0],\n",
      "[0, Y]]), Matrix([\n",
      "[Y, 0],\n",
      "[0, Y]]), Matrix([\n",
      "[Y, 0],\n",
      "[0, Y]])]\n"
     ]
    }
   ],
   "source": [
    "D,C = first_order_univ.parameter_decomposition(a)\n",
    "print(D.mat_list)\n",
    "print(C[0].mat_list)\n",
    "print(C[1].mat_list)"
   ]
  },
  {
   "cell_type": "code",
   "execution_count": 8,
   "metadata": {},
   "outputs": [
    {
     "name": "stdout",
     "output_type": "stream",
     "text": [
      "Shape:\n",
      "------\n",
      "[4, 4, 4, 4, 4, 4]\n",
      "Non-commutative symbols:\n",
      "------------------------\n",
      "A0*B0 {(0, 1, 1), (4, 2, 2), (1, 0, 0), (4, 3, 3), (5, 2, 2), (3, 3, 3), (4, 0, 0), (2, 3, 3), (5, 1, 1), (0, 2, 2), (3, 2, 2), (2, 0, 0), (0, 3, 3), (3, 1, 1), (1, 2, 2), (5, 3, 3), (0, 0, 0), (4, 1, 1), (1, 1, 1), (5, 0, 0), (2, 2, 2), (2, 1, 1), (3, 0, 0), (1, 3, 3)}\n",
      "A0*B1 + A1*B0 {(4, 1, 3), (0, 0, 2), (0, 2, 3), (2, 0, 2), (0, 0, 1), (1, 2, 3), (1, 0, 1), (0, 1, 3), (4, 0, 2), (2, 1, 3)}\n",
      "A0*B2 + A2*B0 {(3, 0, 2), (3, 2, 3), (1, 1, 3), (2, 2, 3), (5, 0, 2), (2, 0, 1), (3, 1, 3), (3, 0, 1), (1, 0, 2), (5, 1, 3)}\n",
      "A0*B3 + A3*B0 {(4, 0, 1), (5, 2, 3), (5, 0, 1), (4, 2, 3)}\n",
      "A0*B4 + 2*A1*B1 + A4*B0 {(0, 0, 3)}\n",
      "A0*B5 + A1*B2 + A2*B1 + A5*B0 {(1, 0, 3), (2, 0, 3)}\n",
      "A0*B6 + 2*A2*B2 + A6*B0 {(3, 0, 3)}\n",
      "A0*B7 + A1*B3 + A3*B1 + A7*B0 {(4, 0, 3)}\n",
      "A0*B8 + A2*B3 + A3*B2 + A8*B0 {(5, 0, 3)}\n",
      "Commutative symbols:\n",
      "--------------------\n",
      "0 {(5, 1, 2), (0, 1, 2), (1, 1, 2), (2, 1, 2), (4, 1, 2), (3, 1, 2)}\n"
     ]
    }
   ],
   "source": [
    "fo_alg = UTB_Subspace.from_Sym_UTB_Matrix(first_order_univ.exp_deriv_generators(a)).containing_algebra()\n",
    "m1=fo_alg.get_subspace_member()\n",
    "m2=fo_alg.get_subspace_member('B','b')\n",
    "m1.mult(m2).concise_display()"
   ]
  },
  {
   "cell_type": "code",
   "execution_count": 9,
   "metadata": {},
   "outputs": [
    {
     "name": "stdout",
     "output_type": "stream",
     "text": [
      "Shape:\n",
      "------\n",
      "[4, 4, 4, 4, 4, 4]\n",
      "Non-commutative symbols:\n",
      "------------------------\n",
      "a[0]*X + a[1]*Y + Z {(0, 1, 1), (4, 2, 2), (1, 0, 0), (4, 3, 3), (5, 2, 2), (3, 3, 3), (4, 0, 0), (2, 3, 3), (5, 1, 1), (0, 2, 2), (3, 2, 2), (2, 0, 0), (0, 3, 3), (3, 1, 1), (1, 2, 2), (5, 3, 3), (0, 0, 0), (4, 1, 1), (1, 1, 1), (5, 0, 0), (2, 2, 2), (2, 1, 1), (3, 0, 0), (1, 3, 3)}\n",
      "X {(4, 1, 3), (0, 0, 2), (0, 2, 3), (2, 0, 2), (0, 0, 1), (1, 2, 3), (1, 0, 1), (0, 1, 3), (4, 0, 2), (2, 1, 3)}\n",
      "Y {(3, 0, 2), (3, 2, 3), (1, 1, 3), (2, 2, 3), (5, 0, 2), (2, 0, 1), (3, 1, 3), (3, 0, 1), (1, 0, 2), (5, 1, 3)}\n",
      "Z {(4, 0, 1), (5, 2, 3), (5, 0, 1), (4, 2, 3)}\n",
      "Commutative symbols:\n",
      "--------------------\n",
      "0 {(1, 0, 3), (5, 1, 2), (2, 0, 3), (3, 0, 3), (0, 1, 2), (1, 1, 2), (4, 0, 3), (5, 0, 3), (2, 1, 2), (4, 1, 2), (3, 1, 2), (0, 0, 3)}\n"
     ]
    }
   ],
   "source": [
    "first_order_univ.exp_deriv_generators(a).concise_display()"
   ]
  },
  {
   "cell_type": "code",
   "execution_count": 19,
   "metadata": {},
   "outputs": [
    {
     "name": "stdout",
     "output_type": "stream",
     "text": [
      "Shape:\n",
      "------\n",
      "[4, 4, 4, 4]\n",
      "Non-commutative symbols:\n",
      "------------------------\n",
      "A0*B0 {(3, 3, 3), (0, 1, 1), (0, 3, 3), (2, 2, 2), (3, 1, 1), (1, 0, 0), (1, 2, 2), (2, 1, 1), (2, 3, 3), (0, 2, 2), (3, 0, 0), (0, 0, 0), (3, 2, 2), (1, 1, 1), (2, 0, 0), (1, 3, 3)}\n",
      "A0*B1 + A1*B0 {(0, 0, 2), (0, 2, 3), (2, 0, 2), (0, 0, 1), (1, 2, 3), (1, 0, 1), (0, 1, 3), (2, 1, 3)}\n",
      "A0*B2 + A2*B0 {(3, 0, 2), (3, 2, 3), (1, 1, 3), (2, 2, 3), (2, 0, 1), (3, 1, 3), (3, 0, 1), (1, 0, 2)}\n",
      "A0*B3 + 2*A1*B1 + A3*B0 {(0, 0, 3)}\n",
      "A0*B4 + A1*B2 + A2*B1 + A4*B0 {(1, 0, 3), (2, 0, 3)}\n",
      "A0*B5 + 2*A2*B2 + A5*B0 {(3, 0, 3)}\n",
      "Commutative symbols:\n",
      "--------------------\n",
      "0 {(0, 1, 2), (3, 1, 2), (2, 1, 2), (1, 1, 2)}\n"
     ]
    }
   ],
   "source": [
    "unitary = Sym_UTB_Matrix([[G]])\n",
    "d1_u= unitary.exp_deriv_generators(a)\n",
    "d2_u = d1_u.exp_deriv_generators(a)\n",
    "d2_alg = UTB_Subspace.from_Sym_UTB_Matrix(d2_u).containing_algebra()\n",
    "d2_mem = d2_alg.get_subspace_member()\n",
    "d2_mem2 = d2_alg.get_subspace_member('B','b')\n",
    "d2_mem.mult(d2_mem2).concise_display()"
   ]
  },
  {
   "cell_type": "code",
   "execution_count": 20,
   "metadata": {},
   "outputs": [
    {
     "data": {
      "text/plain": [
       "[Matrix([\n",
       " [A0, A1, A1, A3],\n",
       " [ 0, A0,  0, A1],\n",
       " [ 0,  0, A0, A1],\n",
       " [ 0,  0,  0, A0]]), Matrix([\n",
       " [A0, A1, A2, A4],\n",
       " [ 0, A0,  0, A2],\n",
       " [ 0,  0, A0, A1],\n",
       " [ 0,  0,  0, A0]]), Matrix([\n",
       " [A0, A2, A1, A4],\n",
       " [ 0, A0,  0, A1],\n",
       " [ 0,  0, A0, A2],\n",
       " [ 0,  0,  0, A0]]), Matrix([\n",
       " [A0, A2, A2, A5],\n",
       " [ 0, A0,  0, A2],\n",
       " [ 0,  0, A0, A2],\n",
       " [ 0,  0,  0, A0]])]"
      ]
     },
     "execution_count": 20,
     "metadata": {},
     "output_type": "execute_result"
    }
   ],
   "source": [
    "d2_mem.mat_list"
   ]
  },
  {
   "cell_type": "code",
   "execution_count": null,
   "metadata": {},
   "outputs": [],
   "source": []
  }
 ],
 "metadata": {
  "kernelspec": {
   "display_name": "Python 3",
   "language": "python",
   "name": "python3"
  },
  "language_info": {
   "codemirror_mode": {
    "name": "ipython",
    "version": 3
   },
   "file_extension": ".py",
   "mimetype": "text/x-python",
   "name": "python",
   "nbconvert_exporter": "python",
   "pygments_lexer": "ipython3",
   "version": "3.6.8"
  }
 },
 "nbformat": 4,
 "nbformat_minor": 2
}
